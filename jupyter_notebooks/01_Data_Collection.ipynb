{
 "cells": [
  {
   "cell_type": "markdown",
   "id": "d9575c8f",
   "metadata": {},
   "source": [
    "## Objectives\n",
    "The purpose of this notebook is to gather, load, and perform a preliminary inspection of the raw data for the Heritage Housing project. This step ensures we're working with valid data sources, understand their structure, and prepare for cleaning and wrangling in the next phase.\n"
   ]
  },
  {
   "cell_type": "markdown",
   "id": "6a0b7557",
   "metadata": {},
   "source": [
    "## Source Files\n",
    "- Kaggle JSON Authentication Token: Required to access the Kaggle API.\n",
    "\n",
    "- We are using three key files from the Kaggle dataset:\n",
    "\n",
    "  - house_prices_records.csv: Historical house sale records.\n",
    "\n",
    "  - inherited_houses.csv: List of inherited houses we want to estimate prices for.\n",
    "\n",
    "  - house-metadata.txt: Describes the features present in both CSVs.\n",
    "\n",
    "    These were placed in the /data folder for structured access."
   ]
  },
  {
   "cell_type": "markdown",
   "id": "24c86f2d",
   "metadata": {},
   "source": [
    "### Change Working Directory\n",
    "\n",
    "- \n",
    "  To allow smooth access to the data files, we need to adjust our working directory. Since this notebook lives in a subfolder (e.g. jupyter_notebooks), we’ll move one level up to the project root."
   ]
  },
  {
   "cell_type": "code",
   "execution_count": 8,
   "id": "95e65785",
   "metadata": {},
   "outputs": [
    {
     "name": "stdout",
     "output_type": "stream",
     "text": [
      "Current directory: /workspaces/heritage_housing/jupyter_notebooks\n",
      "You set a new current directory\n",
      "New directory: /workspaces/heritage_housing\n"
     ]
    }
   ],
   "source": [
    "import os\n",
    "\n",
    "# Display the current directory\n",
    "current_dir = os.getcwd()\n",
    "print(f\"Current directory: {current_dir}\")\n",
    "\n",
    "# Move to the parent directory\n",
    "os.chdir(os.path.dirname(current_dir))\n",
    "print(\"You set a new current directory\")\n",
    "\n",
    "# Confirm the change\n",
    "current_dir = os.getcwd()\n",
    "print(f\"New directory: {current_dir}\")"
   ]
  },
  {
   "cell_type": "markdown",
   "id": "d82c3051",
   "metadata": {},
   "source": [
    "### Fetch Dataset from Kaggle\n",
    "\n",
    "- To keep the workflow reproducible and professional, we will use Kaggle’s API to programmatically download the dataset."
   ]
  },
  {
   "cell_type": "markdown",
   "id": "cd33b841",
   "metadata": {},
   "source": [
    "Setup: Install Kaggle and Authenticate"
   ]
  },
  {
   "cell_type": "code",
   "execution_count": 9,
   "id": "855b392a",
   "metadata": {},
   "outputs": [
    {
     "name": "stdout",
     "output_type": "stream",
     "text": [
      "Collecting kaggle==1.5.12\n",
      "  Downloading kaggle-1.5.12.tar.gz (58 kB)\n",
      "  Preparing metadata (setup.py) ... \u001b[?25ldone\n",
      "\u001b[?25hRequirement already satisfied: six>=1.10 in /home/cistudent/.pyenv/versions/3.12.1/lib/python3.12/site-packages (from kaggle==1.5.12) (1.17.0)\n",
      "Requirement already satisfied: certifi in /home/cistudent/.pyenv/versions/3.12.1/lib/python3.12/site-packages (from kaggle==1.5.12) (2024.12.14)\n",
      "Requirement already satisfied: python-dateutil in /home/cistudent/.pyenv/versions/3.12.1/lib/python3.12/site-packages (from kaggle==1.5.12) (2.9.0.post0)\n",
      "Requirement already satisfied: requests in /home/cistudent/.pyenv/versions/3.12.1/lib/python3.12/site-packages (from kaggle==1.5.12) (2.32.3)\n",
      "Requirement already satisfied: tqdm in /home/cistudent/.local/lib/python3.12/site-packages (from kaggle==1.5.12) (4.67.1)\n",
      "Requirement already satisfied: python-slugify in /home/cistudent/.local/lib/python3.12/site-packages (from kaggle==1.5.12) (8.0.4)\n",
      "Requirement already satisfied: urllib3 in /home/cistudent/.pyenv/versions/3.12.1/lib/python3.12/site-packages (from kaggle==1.5.12) (2.2.3)\n",
      "Requirement already satisfied: text-unidecode>=1.3 in /home/cistudent/.local/lib/python3.12/site-packages (from python-slugify->kaggle==1.5.12) (1.3)\n",
      "Requirement already satisfied: charset-normalizer<4,>=2 in /home/cistudent/.pyenv/versions/3.12.1/lib/python3.12/site-packages (from requests->kaggle==1.5.12) (3.4.0)\n",
      "Requirement already satisfied: idna<4,>=2.5 in /home/cistudent/.pyenv/versions/3.12.1/lib/python3.12/site-packages (from requests->kaggle==1.5.12) (3.10)\n",
      "Building wheels for collected packages: kaggle\n",
      "  Building wheel for kaggle (setup.py) ... \u001b[?25ldone\n",
      "\u001b[?25h  Created wheel for kaggle: filename=kaggle-1.5.12-py3-none-any.whl size=73026 sha256=e6b97c9f4058ea4c5d8989bfaf3288727a6d55898d93a95f9bbf7e65371f76a4\n",
      "  Stored in directory: /home/cistudent/.cache/pip/wheels/f5/69/4d/d701fc604b9fb09be59718b4056fd5556a22588ce1f25dd090\n",
      "Successfully built kaggle\n",
      "Installing collected packages: kaggle\n",
      "  Attempting uninstall: kaggle\n",
      "    Found existing installation: kaggle 1.7.4.2\n",
      "    Uninstalling kaggle-1.7.4.2:\n",
      "      Successfully uninstalled kaggle-1.7.4.2\n",
      "Successfully installed kaggle-1.5.12\n",
      "\n",
      "\u001b[1m[\u001b[0m\u001b[34;49mnotice\u001b[0m\u001b[1;39;49m]\u001b[0m\u001b[39;49m A new release of pip is available: \u001b[0m\u001b[31;49m24.3.1\u001b[0m\u001b[39;49m -> \u001b[0m\u001b[32;49m25.0.1\u001b[0m\n",
      "\u001b[1m[\u001b[0m\u001b[34;49mnotice\u001b[0m\u001b[1;39;49m]\u001b[0m\u001b[39;49m To update, run: \u001b[0m\u001b[32;49mpip install --upgrade pip\u001b[0m\n"
     ]
    }
   ],
   "source": [
    "# Install Kaggle CLI (if not already installed)\n",
    "!pip3 install kaggle==1.5.12"
   ]
  },
  {
   "cell_type": "markdown",
   "id": "8669c1de",
   "metadata": {},
   "source": [
    "- You must first create a Kaggle account and generate an API token from your account settings. This will download a kaggle.json file.\n",
    "- Move kaggle.json to the root directory of this repo.\n",
    "- Run the below to register the token and adjust permissions:"
   ]
  },
  {
   "cell_type": "code",
   "execution_count": 10,
   "id": "8401d218",
   "metadata": {},
   "outputs": [],
   "source": [
    "import os\n",
    "os.environ['KAGGLE_CONFIG_DIR'] = os.getcwd()\n",
    "!chmod 600 kaggle.json  # Secure the file"
   ]
  },
  {
   "cell_type": "markdown",
   "id": "b2bb66f1",
   "metadata": {},
   "source": [
    "### Download the Dataset\n",
    "\n",
    "- We now fetch the dataset using the CLI. This project uses the \"Heritage Housing Predictor\" dataset from Kaggle competitions."
   ]
  },
  {
   "cell_type": "code",
   "execution_count": 11,
   "id": "dfff2b27",
   "metadata": {},
   "outputs": [
    {
     "name": "stdout",
     "output_type": "stream",
     "text": [
      "usage: kaggle [-h] [-v] {competitions,c,datasets,d,kernels,k,config} ...\n",
      "kaggle: error: argument command: invalid choice: 'competitions/heritage-housing-predictor' (choose from 'competitions', 'c', 'datasets', 'd', 'kernels', 'k', 'config')\n"
     ]
    }
   ],
   "source": [
    "KaggleDatasetPath = \"competitions/heritage-housing-predictor\"\n",
    "DestinationFolder = \"data\"\n",
    "\n",
    "!kaggle {KaggleDatasetPath} download -c heritage-housing-predictor -p {DestinationFolder}"
   ]
  },
  {
   "cell_type": "markdown",
   "id": "b32e5a0c",
   "metadata": {},
   "source": [
    "- Unzip the Downloaded File"
   ]
  },
  {
   "cell_type": "code",
   "execution_count": 12,
   "id": "e81b2e01",
   "metadata": {},
   "outputs": [],
   "source": [
    "import zipfile\n",
    "from pathlib import Path\n",
    "\n",
    "for zip_file in Path(DestinationFolder).glob(\"*.zip\"):\n",
    "    with zipfile.ZipFile(zip_file, 'r') as z:\n",
    "        z.extractall(DestinationFolder)\n",
    "    zip_file.unlink()  # Delete zip file after extraction"
   ]
  },
  {
   "cell_type": "markdown",
   "id": "98d8c556",
   "metadata": {},
   "source": [
    "### Load Required Libraries"
   ]
  },
  {
   "cell_type": "code",
   "execution_count": 13,
   "id": "a218278e",
   "metadata": {},
   "outputs": [],
   "source": [
    "import pandas as pd\n",
    "import numpy as np\n",
    "pd.options.display.max_columns = None\n",
    "pd.options.display.max_rows = None"
   ]
  },
  {
   "cell_type": "markdown",
   "id": "a20eabf3",
   "metadata": {},
   "source": [
    "### Load Datasets"
   ]
  },
  {
   "cell_type": "code",
   "execution_count": 20,
   "id": "7b57df1a",
   "metadata": {},
   "outputs": [],
   "source": [
    "# Load house sales records\n",
    "house_prices_df = pd.read_csv('data/house_prices_records.csv')\n",
    "\n",
    "# Load inherited houses data\n",
    "inherited_df = pd.read_csv('data/inherited_houses.csv')"
   ]
  },
  {
   "cell_type": "markdown",
   "id": "ad75422e",
   "metadata": {},
   "source": [
    "### Quick Peek at Each Dataset\n",
    "- This gives us a rough idea of the data shape and the kind of features we’ll be dealing with."
   ]
  },
  {
   "cell_type": "code",
   "execution_count": 21,
   "id": "6752fc85",
   "metadata": {},
   "outputs": [
    {
     "name": "stdout",
     "output_type": "stream",
     "text": [
      "\n",
      "--- House Prices Data ---\n",
      "(1460, 24)\n",
      "Index(['1stFlrSF', '2ndFlrSF', 'BedroomAbvGr', 'BsmtExposure', 'BsmtFinSF1',\n",
      "       'BsmtFinType1', 'BsmtUnfSF', 'EnclosedPorch', 'GarageArea',\n",
      "       'GarageFinish', 'GarageYrBlt', 'GrLivArea', 'KitchenQual', 'LotArea',\n",
      "       'LotFrontage', 'MasVnrArea', 'OpenPorchSF', 'OverallCond',\n",
      "       'OverallQual', 'TotalBsmtSF', 'WoodDeckSF', 'YearBuilt', 'YearRemodAdd',\n",
      "       'SalePrice'],\n",
      "      dtype='object')\n",
      "\n",
      "--- Inherited Houses Data ---\n",
      "(4, 23)\n",
      "Index(['1stFlrSF', '2ndFlrSF', 'BedroomAbvGr', 'BsmtExposure', 'BsmtFinSF1',\n",
      "       'BsmtFinType1', 'BsmtUnfSF', 'EnclosedPorch', 'GarageArea',\n",
      "       'GarageFinish', 'GarageYrBlt', 'GrLivArea', 'KitchenQual', 'LotArea',\n",
      "       'LotFrontage', 'MasVnrArea', 'OpenPorchSF', 'OverallCond',\n",
      "       'OverallQual', 'TotalBsmtSF', 'WoodDeckSF', 'YearBuilt',\n",
      "       'YearRemodAdd'],\n",
      "      dtype='object')\n"
     ]
    },
    {
     "data": {
      "text/html": [
       "<div>\n",
       "<style scoped>\n",
       "    .dataframe tbody tr th:only-of-type {\n",
       "        vertical-align: middle;\n",
       "    }\n",
       "\n",
       "    .dataframe tbody tr th {\n",
       "        vertical-align: top;\n",
       "    }\n",
       "\n",
       "    .dataframe thead th {\n",
       "        text-align: right;\n",
       "    }\n",
       "</style>\n",
       "<table border=\"1\" class=\"dataframe\">\n",
       "  <thead>\n",
       "    <tr style=\"text-align: right;\">\n",
       "      <th></th>\n",
       "      <th>1stFlrSF</th>\n",
       "      <th>2ndFlrSF</th>\n",
       "      <th>BedroomAbvGr</th>\n",
       "      <th>BsmtExposure</th>\n",
       "      <th>BsmtFinSF1</th>\n",
       "      <th>BsmtFinType1</th>\n",
       "      <th>BsmtUnfSF</th>\n",
       "      <th>EnclosedPorch</th>\n",
       "      <th>GarageArea</th>\n",
       "      <th>GarageFinish</th>\n",
       "      <th>GarageYrBlt</th>\n",
       "      <th>GrLivArea</th>\n",
       "      <th>KitchenQual</th>\n",
       "      <th>LotArea</th>\n",
       "      <th>LotFrontage</th>\n",
       "      <th>MasVnrArea</th>\n",
       "      <th>OpenPorchSF</th>\n",
       "      <th>OverallCond</th>\n",
       "      <th>OverallQual</th>\n",
       "      <th>TotalBsmtSF</th>\n",
       "      <th>WoodDeckSF</th>\n",
       "      <th>YearBuilt</th>\n",
       "      <th>YearRemodAdd</th>\n",
       "    </tr>\n",
       "  </thead>\n",
       "  <tbody>\n",
       "    <tr>\n",
       "      <th>0</th>\n",
       "      <td>896</td>\n",
       "      <td>0</td>\n",
       "      <td>2</td>\n",
       "      <td>No</td>\n",
       "      <td>468.0</td>\n",
       "      <td>Rec</td>\n",
       "      <td>270.0</td>\n",
       "      <td>0</td>\n",
       "      <td>730.0</td>\n",
       "      <td>Unf</td>\n",
       "      <td>1961.0</td>\n",
       "      <td>896</td>\n",
       "      <td>TA</td>\n",
       "      <td>11622</td>\n",
       "      <td>80.0</td>\n",
       "      <td>0.0</td>\n",
       "      <td>0</td>\n",
       "      <td>6</td>\n",
       "      <td>5</td>\n",
       "      <td>882.0</td>\n",
       "      <td>140</td>\n",
       "      <td>1961</td>\n",
       "      <td>1961</td>\n",
       "    </tr>\n",
       "    <tr>\n",
       "      <th>1</th>\n",
       "      <td>1329</td>\n",
       "      <td>0</td>\n",
       "      <td>3</td>\n",
       "      <td>No</td>\n",
       "      <td>923.0</td>\n",
       "      <td>ALQ</td>\n",
       "      <td>406.0</td>\n",
       "      <td>0</td>\n",
       "      <td>312.0</td>\n",
       "      <td>Unf</td>\n",
       "      <td>1958.0</td>\n",
       "      <td>1329</td>\n",
       "      <td>Gd</td>\n",
       "      <td>14267</td>\n",
       "      <td>81.0</td>\n",
       "      <td>108.0</td>\n",
       "      <td>36</td>\n",
       "      <td>6</td>\n",
       "      <td>6</td>\n",
       "      <td>1329.0</td>\n",
       "      <td>393</td>\n",
       "      <td>1958</td>\n",
       "      <td>1958</td>\n",
       "    </tr>\n",
       "    <tr>\n",
       "      <th>2</th>\n",
       "      <td>928</td>\n",
       "      <td>701</td>\n",
       "      <td>3</td>\n",
       "      <td>No</td>\n",
       "      <td>791.0</td>\n",
       "      <td>GLQ</td>\n",
       "      <td>137.0</td>\n",
       "      <td>0</td>\n",
       "      <td>482.0</td>\n",
       "      <td>Fin</td>\n",
       "      <td>1997.0</td>\n",
       "      <td>1629</td>\n",
       "      <td>TA</td>\n",
       "      <td>13830</td>\n",
       "      <td>74.0</td>\n",
       "      <td>0.0</td>\n",
       "      <td>34</td>\n",
       "      <td>5</td>\n",
       "      <td>5</td>\n",
       "      <td>928.0</td>\n",
       "      <td>212</td>\n",
       "      <td>1997</td>\n",
       "      <td>1998</td>\n",
       "    </tr>\n",
       "    <tr>\n",
       "      <th>3</th>\n",
       "      <td>926</td>\n",
       "      <td>678</td>\n",
       "      <td>3</td>\n",
       "      <td>No</td>\n",
       "      <td>602.0</td>\n",
       "      <td>GLQ</td>\n",
       "      <td>324.0</td>\n",
       "      <td>0</td>\n",
       "      <td>470.0</td>\n",
       "      <td>Fin</td>\n",
       "      <td>1998.0</td>\n",
       "      <td>1604</td>\n",
       "      <td>Gd</td>\n",
       "      <td>9978</td>\n",
       "      <td>78.0</td>\n",
       "      <td>20.0</td>\n",
       "      <td>36</td>\n",
       "      <td>6</td>\n",
       "      <td>6</td>\n",
       "      <td>926.0</td>\n",
       "      <td>360</td>\n",
       "      <td>1998</td>\n",
       "      <td>1998</td>\n",
       "    </tr>\n",
       "  </tbody>\n",
       "</table>\n",
       "</div>"
      ],
      "text/plain": [
       "   1stFlrSF  2ndFlrSF  BedroomAbvGr BsmtExposure  BsmtFinSF1 BsmtFinType1  \\\n",
       "0       896         0             2           No       468.0          Rec   \n",
       "1      1329         0             3           No       923.0          ALQ   \n",
       "2       928       701             3           No       791.0          GLQ   \n",
       "3       926       678             3           No       602.0          GLQ   \n",
       "\n",
       "   BsmtUnfSF  EnclosedPorch  GarageArea GarageFinish  GarageYrBlt  GrLivArea  \\\n",
       "0      270.0              0       730.0          Unf       1961.0        896   \n",
       "1      406.0              0       312.0          Unf       1958.0       1329   \n",
       "2      137.0              0       482.0          Fin       1997.0       1629   \n",
       "3      324.0              0       470.0          Fin       1998.0       1604   \n",
       "\n",
       "  KitchenQual  LotArea  LotFrontage  MasVnrArea  OpenPorchSF  OverallCond  \\\n",
       "0          TA    11622         80.0         0.0            0            6   \n",
       "1          Gd    14267         81.0       108.0           36            6   \n",
       "2          TA    13830         74.0         0.0           34            5   \n",
       "3          Gd     9978         78.0        20.0           36            6   \n",
       "\n",
       "   OverallQual  TotalBsmtSF  WoodDeckSF  YearBuilt  YearRemodAdd  \n",
       "0            5        882.0         140       1961          1961  \n",
       "1            6       1329.0         393       1958          1958  \n",
       "2            5        928.0         212       1997          1998  \n",
       "3            6        926.0         360       1998          1998  "
      ]
     },
     "execution_count": 21,
     "metadata": {},
     "output_type": "execute_result"
    }
   ],
   "source": [
    "print(\"\\n--- House Prices Data ---\")\n",
    "print(house_prices_df.shape)\n",
    "print(house_prices_df.columns)\n",
    "house_prices_df.head()\n",
    "\n",
    "print(\"\\n--- Inherited Houses Data ---\")\n",
    "print(inherited_df.shape)\n",
    "print(inherited_df.columns)\n",
    "inherited_df.head()"
   ]
  },
  {
   "cell_type": "markdown",
   "id": "14b4fbf8",
   "metadata": {},
   "source": [
    "### Initial Observations\n",
    "\n",
    "In this section, make notes like:\n",
    "\n",
    "- Are there null values?\n",
    "\n",
    "- Do both datasets share a common ID column for merging?\n",
    "\n",
    "- Are there categorical or numerical inconsistencies?\n",
    "\n",
    "- What’s the size of the datasets?\n",
    "\n",
    "## Our Initial Observations\n",
    "\n",
    "- house_prices_records.csv contains 1,460 rows and 24 columns. The target variable SalePrice is included.\n",
    "\n",
    "- inherited_houses.csv contains 4 rows and 23 columns — all the same features except for the missing SalePrice column.\n",
    "\n",
    "- No explicit ID column is shared between the datasets, so merging isn’t directly possible.\n",
    "\n",
    "- Features include both numeric (e.g., LotArea, YearBuilt) and categorical data (e.g., BsmtExposure, KitchenQual).\n",
    "\n",
    "- Likely nulls in columns like GarageYrBlt, LotFrontage, and basement features.\n",
    "\n",
    "- Column names match well between datasets — suggesting they're aligned in structure.\n",
    "\n",
    "## Summary of Actions Completed\n",
    "\n",
    "- Changed working directory to project root.\n",
    "\n",
    "- Installed Kaggle CLI and configured authentication.\n",
    "\n",
    "- Programmatically downloaded and extracted all raw data from Kaggle.\n",
    "\n",
    "- Loaded raw datasets and confirmed structural consistency.\n",
    "\n",
    "- Inspected column names, dimensions, and got a feel for data types and formats.\n",
    "\n",
    "- Noted down initial findings to guide the cleaning strategy.\n",
    "\n",
    "## Next Steps\n",
    "\n",
    "Proceed to 02_Data_Cleaning.ipynb, where we will:\n",
    "\n",
    "- Handle missing values.\n",
    "\n",
    "- Remove duplicates or inconsistent entries.\n",
    "\n",
    "- Normalize categorical fields.\n",
    "\n",
    "- Possibly merge the two datasets, if needed."
   ]
  },
  {
   "cell_type": "markdown",
   "id": "ec50e8e4",
   "metadata": {},
   "source": []
  }
 ],
 "metadata": {
  "kernelspec": {
   "display_name": "Python 3",
   "language": "python",
   "name": "python3"
  },
  "language_info": {
   "codemirror_mode": {
    "name": "ipython",
    "version": 3
   },
   "file_extension": ".py",
   "mimetype": "text/x-python",
   "name": "python",
   "nbconvert_exporter": "python",
   "pygments_lexer": "ipython3",
   "version": "3.12.1"
  }
 },
 "nbformat": 4,
 "nbformat_minor": 5
}
