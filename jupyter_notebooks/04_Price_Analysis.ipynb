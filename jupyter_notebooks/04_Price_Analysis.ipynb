{
 "cells": [
  {
   "cell_type": "markdown",
   "id": "2ba77f28",
   "metadata": {},
   "source": [
    "_This project was developed independently as part of Code Institute’s Predictive Analytics Project. Any datasets or templates used are openly provided by the course or via public sources like Kaggle. All commentary and code logic are my own._"
   ]
  },
  {
   "cell_type": "markdown",
   "id": "d01c6e78",
   "metadata": {},
   "source": [
    "# Notebook 04: Price Analysis"
   ]
  },
  {
   "cell_type": "markdown",
   "id": "0311e268",
   "metadata": {},
   "source": [
    "## Objective\n",
    "\n",
    "- This notebook dives into exploratory data analysis (EDA) focused specifically on the **Sale Price** of properties.  \n",
    "- We'll analyze patterns, transformations, and outliers — and extract actionable insights to guide model building.\n",
    "\n",
    "### Input  \n",
    "- `/data/processed/df_cleaned.csv`  \n",
    "- Engineered features (`X_train`, `y_train`) loaded where needed\n",
    "\n",
    "### Outputs\n",
    "- Heatmaps, scatterplots, KDEs saved to `/outputs/visuals/`  \n",
    "- Observations for top driver features used in SHAP/Modeling"
   ]
  },
  {
   "cell_type": "markdown",
   "id": "daaccb6b",
   "metadata": {},
   "source": [
    "## Change Working Directory\n",
    "- Since it is expected that you would keep the notebooks in a subfolder, you will need to switch the working directory when you run the notebook in the editor.\n",
    "- The working directory must be changed from its current folder to its parent folder.\n",
    "- We wish to change the current directory's parent to the new current directory.\n",
    "- Verify the updated current directory."
   ]
  },
  {
   "cell_type": "code",
   "execution_count": null,
   "id": "dc3d6d8f",
   "metadata": {},
   "outputs": [],
   "source": [
    "# Smart Working Directory Setup\n",
    "import os\n",
    "project_root = '/workspaces/heritage_housing'\n",
    "if os.getcwd() != project_root:\n",
    "    try:\n",
    "        os.chdir(project_root)\n",
    "        print(f\"[INFO] Changed working directory to project root: {os.getcwd()}\")\n",
    "    except FileNotFoundError:\n",
    "        raise FileNotFoundError(f\"[ERROR] Project root '{project_root}' not found!\")"
   ]
  },
  {
   "cell_type": "markdown",
   "id": "1266eef2",
   "metadata": {},
   "source": [
    "## Plot Saving Directory"
   ]
  },
  {
   "cell_type": "code",
   "execution_count": null,
   "id": "18268e2f",
   "metadata": {},
   "outputs": [],
   "source": [
    "import os\n",
    "os.makedirs(\"outputs/visuals\", exist_ok=True)"
   ]
  },
  {
   "cell_type": "markdown",
   "id": "665ef841",
   "metadata": {},
   "source": [
    "### Load Libraries\n",
    "- Load libraries\n",
    "- Load cleaned data from /data/processed/df_cleaned.csv"
   ]
  },
  {
   "cell_type": "code",
   "execution_count": null,
   "id": "9b1245e9",
   "metadata": {},
   "outputs": [],
   "source": [
    "# Load Libraries\n",
    "import pandas as pd\n",
    "import numpy as np\n",
    "import matplotlib.pyplot as plt\n",
    "import seaborn as sns\n",
    "\n",
    "sns.set_theme(style=\"whitegrid\")\n",
    "%matplotlib inline\n",
    "\n",
    "# Load the Cleaned Data\n",
    "df = pd.read_csv(\"data/processed/df_cleaned.csv\")\n",
    "\n",
    "# Review column names\n",
    "df.columns\n"
   ]
  },
  {
   "cell_type": "markdown",
   "id": "d249aa9b",
   "metadata": {},
   "source": [
    "## Sale Price Distribution\n",
    "\n",
    "In this section, we examine the distribution of the target variable — `SalePrice`. This will help us understand whether the data is skewed, if log transformation is needed, and whether any outliers are visibly affecting the distribution."
   ]
  },
  {
   "cell_type": "code",
   "execution_count": null,
   "id": "e086edbd",
   "metadata": {},
   "outputs": [],
   "source": [
    "# Plot distribution\n",
    "plt.figure(figsize=(8, 5))\n",
    "sns.histplot(df['SalePrice'], kde=True, bins=40)\n",
    "plt.title(\"Distribution of SalePrice\")\n",
    "plt.xlabel(\"SalePrice\")\n",
    "plt.ylabel(\"Frequency\")\n",
    "plt.tight_layout()\n",
    "plt.show()"
   ]
  },
  {
   "cell_type": "markdown",
   "id": "7c6cd505",
   "metadata": {},
   "source": [
    "### Observations:\n",
    "- The distribution of `saleprice` is right-skewed.\n",
    "- This skewness may affect model performance due to the violation of linear model assumptions.\n",
    "- A log transformation will likely help normalize the target."
   ]
  },
  {
   "cell_type": "markdown",
   "id": "90f8a981",
   "metadata": {},
   "source": [
    "## Skewness & Kurtosis Analysis\n",
    "\n",
    "Before applying transformations, we quantify how skewed and peaked the distribution is using statistical metrics."
   ]
  },
  {
   "cell_type": "code",
   "execution_count": null,
   "id": "b0a605a9",
   "metadata": {},
   "outputs": [],
   "source": [
    "\"\"\"\n",
    "Analyze the distribution of the target variable 'SalePrice' using skewness and kurtosis.\n",
    "Apply a log transformation to reduce right skew and re-evaluate distribution characteristics.\n",
    "\n",
    "Steps:\n",
    "- Print original skewness and kurtosis of 'SalePrice'\n",
    "- Apply np.log1p() to normalize distribution (added as 'LogSalePrice')\n",
    "- Plot histogram of log-transformed prices\n",
    "- Print new skewness and kurtosis after transformation\n",
    "\"\"\"\n",
    "\n",
    "from scipy.stats import skew, kurtosis\n",
    "\n",
    "price = df['SalePrice']\n",
    "print(f\"Skewness: {skew(price):.2f}\")\n",
    "print(f\"Kurtosis: {kurtosis(price):.2f}\")"
   ]
  },
  {
   "cell_type": "markdown",
   "id": "6e27fead",
   "metadata": {},
   "source": [
    "### Log-Transformed Target\n",
    "\n",
    "### Why Apply Log Transformation?\n",
    "The target variable `SalePrice` is right-skewed, violating assumptions of normality required by many regression models. Applying a log transformation (log1p) helps:\n",
    "- Normalize the distribution\n",
    "- Reduce the influence of extreme outliers\n",
    "- Improve model accuracy"
   ]
  },
  {
   "cell_type": "code",
   "execution_count": null,
   "id": "7771eaca",
   "metadata": {},
   "outputs": [],
   "source": [
    "# Add log-transformed target variable\n",
    "df[\"LogSalePrice\"] = np.log1p(df[\"SalePrice\"])\n",
    "print(\"[INFO] Log-transformed SalePrice added as 'LogSalePrice'\")\n",
    "\n",
    "\n",
    "# Plot new distribution\n",
    "plt.figure(figsize=(8, 5))\n",
    "sns.histplot(df['LogSalePrice'], kde=True, bins=40)\n",
    "plt.title(\"Distribution of Log-Transformed SalePrice\")\n",
    "plt.xlabel(\"LogSalePrice\")\n",
    "plt.tight_layout()\n",
    "plt.show()\n",
    "\n",
    "# Re-check skewness\n",
    "print(f\"New Skewness: {skew(df['LogSalePrice']):.2f}\")\n",
    "print(f\"New Kurtosis: {kurtosis(df['LogSalePrice']):.2f}\")"
   ]
  },
  {
   "cell_type": "markdown",
   "id": "efc50d90",
   "metadata": {},
   "source": [
    "### Updated Skewness Analysis (After Log Transformation)\n",
    "\n",
    "The log-transformed distribution of `saleprice` is significantly more symmetrical compared to the original. The KDE curve aligns well with a normal distribution shape, indicating:\n",
    "- **Reduced skewness** — the long right tail is now compressed.\n",
    "- **Improved model readiness** — this transformation will support better assumptions for linear models.\n",
    "- Outliers are still visible but now less influential in magnitude.\n",
    "\n",
    "We will use `LogSalePrice` as the target for further analysis and modeling."
   ]
  },
  {
   "cell_type": "markdown",
   "id": "8db2ecce",
   "metadata": {},
   "source": [
    "## Correlation Analysis\n",
    "\n",
    "To identify features that have the strongest relationship with house prices, we'll compute Pearson correlation coefficients between all numerical variables and `LogSalePrice`.\n",
    "\n",
    "This will help in:\n",
    "- Selecting features for modeling\n",
    "- Prioritizing further investigation in the next steps"
   ]
  },
  {
   "cell_type": "code",
   "execution_count": null,
   "id": "b276f56e",
   "metadata": {},
   "outputs": [],
   "source": [
    "# Compute correlation matrix with LogSalePrice\n",
    "corr_matrix = df.corr(numeric_only=True)\n",
    "top_corr = corr_matrix['LogSalePrice'].abs().sort_values(ascending=False).head(20)\n",
    "\n",
    "# Display top 20 correlated features\n",
    "print(\"Top 20 Correlated Features with LogSalePrice:\")\n",
    "print(top_corr)\n",
    "\n",
    "# Plot heatmap\n",
    "plt.figure(figsize=(12, 10))\n",
    "sns.heatmap(df[top_corr.index].corr(), annot=True, fmt=\".2f\", cmap=\"coolwarm\", square=True)\n",
    "plt.title(\"Top 20 Correlated Features with LogSalePrice\")\n",
    "plt.tight_layout()\n",
    "plt.show()"
   ]
  },
  {
   "cell_type": "markdown",
   "id": "aa74d2d8",
   "metadata": {},
   "source": [
    "#### Heatmap Insights:\n",
    "\n",
    "Based on the correlation heatmap with LogSalePrice, the following key insights emerge:\n",
    "\n",
    "**Top Drivers:**\n",
    "- OverallQual (0.82) is the strongest positive correlation with LogSalePrice, indicating build quality is a top price determinant.\n",
    "- GrLivArea (0.70) also has a strong correlation, confirming above-ground living space heavily influences sale prices.\n",
    "- GarageArea (0.65), TotalBsmtSF (0.61), and 1stFlrSF (0.60) follow as solid predictors, reinforcing that overall usable square footage (above and below ground) is critical.\n",
    "\n",
    "**Time Features:**\n",
    "- YearBuilt (0.59) and YearRemodAdd (0.57) suggest that newer or recently renovated homes are more valuable, but with slightly less influence than size or quality.\n",
    "- Mid-tier Correlators:\n",
    "- MasVnrArea (0.43) and BsmtFinSF1 (0.37) show moderate influence — these may become more important in nonlinear models.\n",
    "\n",
    "**Low Correlation Feature:**\n",
    "- GarageYrBlt, LotFrontage, OpenPorchSF, and 2ndFlrSF have lower correlations (< 0.35) and may not individually carry much weight in predictive models.\n",
    "- However, they shouldn't be dropped outright — their impact may emerge in interactions or tree-based models.\n"
   ]
  },
  {
   "cell_type": "markdown",
   "id": "42a70ad5",
   "metadata": {},
   "source": [
    "#### Scatterplots – Numerical Features vs LogSalePrice"
   ]
  },
  {
   "cell_type": "code",
   "execution_count": null,
   "id": "1858c25e",
   "metadata": {},
   "outputs": [],
   "source": [
    "# Define top numerical features for scatterplots\n",
    "scatter_features = ['OverallQual', 'GrLivArea', 'GarageArea', 'TotalBsmtSF', '1stFlrSF']\n",
    "\n",
    "# Plot scatterplots\n",
    "plt.figure(figsize=(16, 12))\n",
    "for i, feature in enumerate(scatter_features):\n",
    "    plt.subplot(3, 2, i + 1)\n",
    "    sns.scatterplot(data=df, x=feature, y='LogSalePrice', alpha=0.5)\n",
    "    sns.regplot(data=df, x=feature, y='LogSalePrice', scatter=False, color='red')\n",
    "    plt.title(f'{feature} vs LogSalePrice')\n",
    "\n",
    "    # Save individual chart if feature is garagearea\n",
    "    # Save the figure\n",
    "    filename = f\"outputs/visuals/scatter_{feature.lower()}_vs_LogSalePrice.png\"\n",
    "    plt.savefig(filename)\n",
    "    \n",
    "plt.tight_layout()\n",
    "plt.show()\n"
   ]
  },
  {
   "cell_type": "markdown",
   "id": "f2389bd1",
   "metadata": {},
   "source": [
    "## Key Feature Relationships\n",
    "\n",
    "The goal is to visualize how the most correlated numerical features interact with `LogSalePrice`. This helps confirm:\n",
    "- Linearity or non-linearity in relationships\n",
    "- Outliers and heteroscedasticity\n",
    "- Whether transformations or binning may be needed"
   ]
  },
  {
   "cell_type": "code",
   "execution_count": null,
   "id": "78de59f5",
   "metadata": {},
   "outputs": [],
   "source": [
    "\"\"\"\n",
    "Visualize relationships between selected top numerical features and the log-transformed SalePrice.\n",
    "\n",
    "Purpose:\n",
    "- Identify linear patterns or trends between individual features and LogSalePrice.\n",
    "- Use regplot to visualize scatter + fitted regression line for each feature.\n",
    "\n",
    "Features plotted:\n",
    "- OverallQual, GrLivArea, GarageArea, TotalBsmtSF, 1stFlrSF, YearBuilt\n",
    "\"\"\"\n",
    "# Define Features \n",
    "top_features = ['OverallQual', 'GrLivArea', 'GarageArea', 'TotalBsmtSF', '1stFlrSF', 'YearBuilt']\n",
    "\n",
    "plt.figure(figsize=(16, 12))\n",
    "for i, feature in enumerate(top_features):\n",
    "    plt.subplot(3, 2, i+1)\n",
    "    sns.regplot(x=df[feature], y=df['LogSalePrice'], scatter_kws={\"alpha\":0.4}, line_kws={\"color\":\"red\"})\n",
    "    plt.title(f'{feature} vs LogSalePrice')\n",
    "    plt.xlabel(feature)\n",
    "    plt.ylabel('LogSalePrice')\n",
    "\n",
    "plt.tight_layout()\n",
    "plt.show()"
   ]
  },
  {
   "cell_type": "markdown",
   "id": "8359480b",
   "metadata": {},
   "source": [
    "### 🔍 Observations:\n",
    "- `overallqual` shows the strongest positive correlation with `LogSalePrice`. As overall material and finish quality improves, so does the house price — no surprises here. It's a power feature.\n",
    "- `grlivarea` (Above ground living area) also has a strong linear relationship with `LogSalePrice`. Larger living spaces are highly valued by buyers.\n",
    "- `garagearea` correlates positively, but we observe diminishing returns — after a certain size, the impact flattens. It may capture both usable parking and \"bonus\" storage, but not always price-driving.\n",
    "- `totalbsmtsf` and `1stflrSf` display upward trends, but with more noise. Basement size is impactful only when it's finished or usable.\n",
    "- `yearbuilt` has a positive trend — newer homes tend to command higher prices — though this is moderated by neighborhood trends and renovations.\n",
    "\n",
    "**Key Takeaway:** \n",
    "\n",
    "These features are likely to be important in model training, and are strong candidates for scaling, interaction terms, or polynomial features later on.\n",
    "\n"
   ]
  },
  {
   "cell_type": "markdown",
   "id": "1e215d18",
   "metadata": {},
   "source": [
    "## Univariate Features vs LogSalePrice\n",
    "\n",
    "### Objective:\n",
    "\n",
    "To assess how each feature individually correlates with the target variable (LogSalePrice). This helps identify the most important predictors and informs feature selection for modeling."
   ]
  },
  {
   "cell_type": "markdown",
   "id": "97be87a9",
   "metadata": {},
   "source": [
    "**Numeric Features vs logSalePrice (Scatter + Correlation):**"
   ]
  },
  {
   "cell_type": "code",
   "execution_count": null,
   "id": "418b7765",
   "metadata": {},
   "outputs": [],
   "source": [
    "import matplotlib.pyplot as plt\n",
    "import seaborn as sns\n",
    "\n",
    "# Set theme\n",
    "sns.set_theme(style=\"whitegrid\", palette=\"muted\")\n",
    "\n",
    "# List of numeric features to analyze\n",
    "features = [\n",
    "    '1stFlrSF', '2ndFlrSF', 'BedroomAbvGr', 'BsmtFinSF1', 'BsmtUnfSF',\n",
    "    'GarageArea', 'GarageYrBlt', 'GrLivArea', 'LotArea', 'LotFrontage',\n",
    "    'MasVnrArea', 'OpenPorchSF', 'OverallCond', 'OverallQual',\n",
    "    'TotalBsmtSF', 'YearBuilt', 'YearRemodAdd'\n",
    "]\n",
    "\n",
    "# Create figure and subplots\n",
    "plt.figure(figsize=(18, 16))\n",
    "plt.suptitle(\"Univariate Feature vs LogSalePrice\", fontsize=14, y=1)\n",
    "\n",
    "for idx, feature in enumerate(features):\n",
    "    plt.subplot( 5, 4, idx + 1)\n",
    "    sns.scatterplot(data=df, x=feature, y='LogSalePrice', alpha=0.6)\n",
    "    plt.title(f\"{feature} vs LogSalePrice\\nCorr: {df[feature].corr(df['LogSalePrice'])}\")\n",
    "    plt.xlabel(feature)\n",
    "    plt.ylabel(\"LogSalePrice\")\n",
    "plt.show()\n"
   ]
  },
  {
   "cell_type": "markdown",
   "id": "110e8ded",
   "metadata": {},
   "source": [
    "### Observations from Correlation Heatmap with LogSalePrice\n",
    "\n",
    "**Strongly Correlated Features (r ≥ 0.60):**\n",
    "\n",
    "- OverallQual (0.82) → The single strongest feature. Indicates overall material and finish quality — no surprises, high-end houses sell for more.\n",
    "- GrLivArea (0.70) → Total above-ground living space. Strong, linear relationship with price.\n",
    "- GarageArea (0.65) and TotalBsmtSF (0.61) → Bigger garages and basements correlate well with higher prices.\n",
    "- 1stFlrSF (0.60) → Large first floors add tangible value.\n",
    "\n",
    "**Moderately Correlated Features (r = 0.40 – 0.59):**\n",
    "\n",
    "- YearBuilt (0.59) and YearRemodAdd (0.57) → Newer or recently renovated homes do fetch more, but not as strongly as livable space or finish quality.\n",
    "- MasVnrArea (0.43) → Stone/brick veneer area — possibly an aesthetic/luxury marker.\n",
    "- BsmtFinSF1 (0.37) → Finished basement size adds value, but not as dramatically.\n",
    "\n",
    "**Weak Correlations (r = 0.20 – 0.39):**\n",
    "  \n",
    "- GarageYrBlt (0.35) → Age of garage matters somewhat, but far less than size.\n",
    "- LotFrontage (0.34) and OpenPorchSF (0.32) → Curb appeal and outdoor space matter a bit.\n",
    "- 2ndFlrSF (0.31) → Upper floor space has less impact than ground-level space.\n",
    "- LotArea (0.26) and BsmtUnfSF (0.22) → Just owning land or unfinished space doesn’t predict high price directly.\n",
    "- BedroomAbvGr (0.12) → Number of bedrooms isn’t as predictive — likely due to redundancy with other features.\n",
    "\n",
    "**No or Negative Correlation:**\n",
    "\n",
    "- OverallCond (-0.04) → Surprisingly weak/negative — condition rating may be too coarse or subjective to capture actual value."
   ]
  },
  {
   "cell_type": "markdown",
   "id": "414c1b52",
   "metadata": {},
   "source": [
    "## Price Segmentation\n",
    "\n",
    "To better understand how features vary across different price bands, we create three segments (Low, Mid, High) based on LogSalePrice.\n",
    "\n",
    "This helps spot non-linear patterns, target-specific drivers, and will aid in building classification models or stratified sampling later."
   ]
  },
  {
   "cell_type": "code",
   "execution_count": null,
   "id": "10ef5ea2",
   "metadata": {},
   "outputs": [],
   "source": [
    "\"\"\"\n",
    "Segment log-transformed sale prices into categorical bins and analyze feature distribution across segments.\n",
    "\n",
    "Steps:\n",
    "1. Create 'PriceSegment' with 3 quantile-based bins ('Low', 'Mid', 'High') using LogSalePrice.\n",
    "2. Plot a boxplot of GrLivArea across these segments to observe how it varies by price group.\n",
    "\n",
    "Purpose:\n",
    "- Helps validate if GrLivArea is a meaningful driver of price.\n",
    "- Supports hypothesis that larger living areas correlate with higher house prices.\n",
    "\"\"\"\n",
    "\n",
    "# Segment prices into 3 bins: Low, Mid, High\n",
    "df['PriceSegment'] = pd.qcut(df['LogSalePrice'], q=3, labels=['Low', 'Mid', 'High'])\n",
    "\n",
    "# Visualize how GrLivArea differs by segment\n",
    "plt.figure(figsize=(8, 5))\n",
    "sns.boxplot(data=df, x='PriceSegment', y='GrLivArea', palette='coolwarm', hue='PriceSegment', legend=False)\n",
    "plt.title('GrLivArea across Price Segments')\n",
    "plt.xlabel('Price Segment')\n",
    "plt.ylabel('GrLivArea')\n",
    "plt.tight_layout()\n",
    "plt.show()\n"
   ]
  },
  {
   "cell_type": "markdown",
   "id": "0ebfa751",
   "metadata": {},
   "source": [
    "### Price Segmentation – Insights & Analysis\n",
    "#### 1. Purpose:\n",
    "- Segmenting houses into price bands (e.g. Low, Medium, High) helps understand how key features vary across pricing tiers. This is useful for feature engineering, targeted modeling, and business storytelling.\n",
    "\n",
    "#### 2. What to Look For:\n",
    "\n",
    "- Do larger houses always fall into the \"High\" tier?\n",
    "- Are quality ratings (like overallqual) consistently higher in upper segments?\n",
    "- Are there outliers (e.g. small homes in High tier, or large homes in Low)?\n",
    "\n",
    "#### 3. Example Observations (based on boxplots):\n",
    "\n",
    "- GrLivArea:\n",
    "Median above-ground area clearly increases from Low to High segments. However, there is overlap — suggesting some large homes still fall in lower price brackets, possibly due to location or poor condition.\n",
    "\n",
    "- GarageArea / TotalBsmtSF:\n",
    "Similar trends — more garage and basement space are common in Medium and High segments.\n",
    "\n",
    "- OverallQual:\n",
    "Strongest separation across tiers. Virtually no Low-tier homes have OverallQual > 7.\n",
    "\n",
    "#### 4. Strategic Value:\n",
    "**This segmentation supports:**\n",
    "- Feature interaction design (e.g. high GrLivArea + low OverallQual)\n",
    "- Targeted modeling (segment-wise performance)\n",
    "- Customer personas: Budget Buyers vs. Premium Investors"
   ]
  },
  {
   "cell_type": "markdown",
   "id": "a1208242",
   "metadata": {},
   "source": [
    "## Bivariate & Interaction Relationships\n",
    "\n",
    "### Objective\n",
    "This section explores how two features interact together to impact LogSalePrice. While univariate analysis is useful, many real-world pricing patterns only emerge when considering combinations — for example:\n",
    "\n",
    "- A large house with poor quality may still have a low price.\n",
    "- A high OverallQual home in a bad neighborhood might be undervalued.\n",
    "- GarageArea + YearBuilt might reveal how newer big garages increase value.\n",
    "\n",
    "**We’ll investigate both numeric-numeric and numeric-categorical interactions using:**\n",
    "- Scatterplots with hue\n",
    "- Regression plots\n",
    "\n"
   ]
  },
  {
   "cell_type": "markdown",
   "id": "512773ab",
   "metadata": {},
   "source": [
    "**OverallQual vs GrLivArea — Hue = LogSalePrice**"
   ]
  },
  {
   "cell_type": "code",
   "execution_count": null,
   "id": "cad52daf",
   "metadata": {},
   "outputs": [],
   "source": [
    "\"\"\"\n",
    "Visualize interaction between GrLivArea and OverallQual with LogSalePrice as a color gradient.\n",
    "\n",
    "Purpose:\n",
    "- Identify how combinations of above-ground living area and material quality affect housing prices.\n",
    "- Use color (LogSalePrice) to reveal interaction effects between two numerical predictors.\n",
    "\n",
    "Plot:\n",
    "- X-axis: GrLivArea (above ground living area)\n",
    "- Y-axis: OverallQual (overall material quality)\n",
    "- Color: Log-transformed sale price (LogSalePrice)\n",
    "- Insight: Higher price concentrations expected in the top-right (large, high-quality homes)\n",
    "\"\"\"\n",
    "\n",
    "import matplotlib.pyplot as plt\n",
    "\n",
    "# Convert values to NumPy arrays\n",
    "x = df['GrLivArea']\n",
    "y = df['OverallQual']\n",
    "c = df['LogSalePrice']\n",
    "\n",
    "# Plot\n",
    "plt.figure(figsize=(10, 6))\n",
    "scatter = plt.scatter(x, y, c=c, cmap='viridis', alpha=0.7)\n",
    "plt.colorbar(scatter, label=\"LogSalePrice\")\n",
    "plt.xlabel(\"GrLivArea (Above Ground Living Area)\")\n",
    "plt.ylabel(\"OverallQual (Overall Material Quality)\")\n",
    "plt.title(\"Interaction: GrLivArea vs OverallQual Colored by LogSalePrice\")\n",
    "plt.tight_layout()\n",
    "plt.show()\n"
   ]
  },
  {
   "cell_type": "markdown",
   "id": "c6358864",
   "metadata": {},
   "source": [
    "**Interaction Plot: YearBuilt vs TotalBsmtSF Colored by LogSalePrice**"
   ]
  },
  {
   "cell_type": "code",
   "execution_count": null,
   "id": "945fa65e",
   "metadata": {},
   "outputs": [],
   "source": [
    "# Extract variables\n",
    "x = df['YearBuilt']\n",
    "y = df['TotalBsmtSF']\n",
    "c = df['LogSalePrice']\n",
    "\n",
    "# Plot\n",
    "plt.figure(figsize=(10, 6))\n",
    "scatter = plt.scatter(x, y, c=c, cmap='plasma', alpha=0.7)\n",
    "plt.colorbar(scatter, label=\"LogSalePrice\")\n",
    "plt.xlabel(\"Year Built\")\n",
    "plt.ylabel(\"Total Basement SF\")\n",
    "plt.title(\"Interaction: YearBuilt vs TotalBsmtSF Colored by LogSalePrice\")\n",
    "plt.tight_layout()\n",
    "plt.show()\n"
   ]
  },
  {
   "cell_type": "markdown",
   "id": "536a4096",
   "metadata": {},
   "source": [
    "**Interaction Plot: GarageArea vs GrLivArea Colored by LogSalePrice**"
   ]
  },
  {
   "cell_type": "code",
   "execution_count": null,
   "id": "ebe6fe58",
   "metadata": {},
   "outputs": [],
   "source": [
    "# Extract variables\n",
    "x = df['GarageArea']\n",
    "y = df['GrLivArea']\n",
    "c = df['LogSalePrice']\n",
    "\n",
    "# Plot\n",
    "plt.figure(figsize=(10, 6))\n",
    "scatter = plt.scatter(x, y, c=c, cmap='coolwarm', alpha=0.7)\n",
    "plt.colorbar(scatter, label=\"LogSalePrice\")\n",
    "plt.xlabel(\"Garage Area\")\n",
    "plt.ylabel(\"GrLivArea (Above Ground Living Area)\")\n",
    "plt.title(\"Interaction: GarageArea vs GrLivArea Colored by LogSalePrice\")\n",
    "plt.tight_layout()\n",
    "plt.show()\n"
   ]
  },
  {
   "cell_type": "markdown",
   "id": "dca9c0ed",
   "metadata": {},
   "source": [
    "### Interaction Plot: GrLivArea vs OverallQual Insights:\n",
    "\n",
    "- Strong upward trend: As both GrLivArea (above-ground living area) and OverallQual increase, LogSalePrice rises significantly.\n",
    "- Non-linear boost: Homes with OverallQual ≥ 7 and GrLivArea > 2000 sqft exhibit a steeper price increase — suggesting interaction terms might improve model fit.\n",
    "- Clustering: There's a noticeable cluster of mid-priced homes around average quality (5–6) and moderate GrLivArea, indicating a \"market standard.\"\n",
    "- Implication: Consider creating an interaction feature like GrLivArea * OverallQual, or polynomial terms for GrLivArea in non-linear models.\n",
    "\n",
    "### Interaction Plot: YearBuilt vs TotalBsmtSF Insights:\n",
    "\n",
    "- Newer homes (YearBuilt > 2000) with larger TotalBsmtSF consistently command higher prices.\n",
    "- Outliers: Older homes with unusually large basements exist, but don’t reach the same price levels — renovation may not compensate for age in buyer perception.\n",
    "- Time premium: A visible step-up in LogSalePrice is seen starting around YearBuilt 1990–2000, reinforcing that age of the home impacts perceived value.\n",
    "- Implication: Consider using a binary variable like is_recent_build (YearBuilt > 2000), or segment models by era.\n",
    "\n",
    "### Interaction Plot: GarageArea vs GrLivArea Insights:\n",
    "\n",
    "- High-priced homes are concentrated in the upper right quadrant: large garages and large living areas.\n",
    "- Diminishing returns: After ~1000 sqft of GarageArea, additional space doesn’t add as much price value — useful for regularization or capping strategies.\n",
    "- Sparse low-price cluster: Homes with large living areas but very small garages are rare — buyers expect both in high-end homes.\n",
    "- Implication: This supports creating a LivingLotRatio or GarageToLivingRatio for capturing space balance in high-end properties."
   ]
  },
  {
   "cell_type": "markdown",
   "id": "705ad88a",
   "metadata": {},
   "source": [
    "## Outlier Detection\n",
    "\n",
    "### Objective:\n",
    "\n",
    "To detect and evaluate outliers in key numerical variables that could distort model performance or bias feature interpretation.\n",
    "\n",
    "**Visualize Outliers with Boxplots:**\n"
   ]
  },
  {
   "cell_type": "code",
   "execution_count": null,
   "id": "e0abfce3",
   "metadata": {},
   "outputs": [],
   "source": [
    "\"\"\"\n",
    "Outlier Detection & Visual Assessment\n",
    "\n",
    "This section detects and visualizes outliers using:\n",
    "- Boxplots for key numerical features\n",
    "- Z-score method (standard deviation thresholding)\n",
    "- IQR method (Interquartile Range filtering)\n",
    "- Scatterplots to assess feature-target outlier patterns\n",
    "\n",
    "Target variable: LogSalePrice\n",
    "\"\"\"\n",
    "import matplotlib.pyplot as plt\n",
    "import seaborn as sns\n",
    "\n",
    "# Define key features to assess for outliers\n",
    "outlier_features = [\n",
    "    'LotArea', 'GrLivArea', 'GarageArea', 'TotalBsmtSF',\n",
    "    'MasVnrArea', 'OpenPorchSF', 'LogSalePrice'\n",
    "]\n",
    "\n",
    "plt.figure(figsize=(18, 16))\n",
    "for i, feature in enumerate(outlier_features):\n",
    "    plt.subplot(4, 2, i+1)\n",
    "    sns.boxplot(data=df, x=feature)\n",
    "    plt.title(f'Boxplot of {feature}')\n",
    "plt.tight_layout()\n",
    "plt.show()\n"
   ]
  },
  {
   "cell_type": "markdown",
   "id": "590ac032",
   "metadata": {},
   "source": [
    "**Z-Score Based Outlier Detection**"
   ]
  },
  {
   "cell_type": "code",
   "execution_count": null,
   "id": "8a8ed272",
   "metadata": {},
   "outputs": [],
   "source": [
    "from scipy.stats import zscore\n",
    "import numpy as np\n",
    "\n",
    "z_scores = df[outlier_features].apply(zscore)\n",
    "outliers_z = (np.abs(z_scores) > 3)\n",
    "\n",
    "print(\"\\nZ-Score Based Outlier Count:\")\n",
    "print(outliers_z.sum().sort_values(ascending=False))\n"
   ]
  },
  {
   "cell_type": "markdown",
   "id": "13488697",
   "metadata": {},
   "source": [
    "**IQR-Based Outlier Detection**"
   ]
  },
  {
   "cell_type": "code",
   "execution_count": null,
   "id": "b8371cc6",
   "metadata": {},
   "outputs": [],
   "source": [
    "def detect_iqr_outliers(df, feature):\n",
    "    \"\"\"\n",
    "    Returns rows where the given feature is outside 1.5 * IQR range.\n",
    "    \"\"\"\n",
    "    Q1 = df[feature].quantile(0.25)\n",
    "    Q3 = df[feature].quantile(0.75)\n",
    "    IQR = Q3 - Q1\n",
    "    lower = Q1 - 1.5 * IQR\n",
    "    upper = Q3 + 1.5 * IQR\n",
    "    return df[(df[feature] < lower) | (df[feature] > upper)]\n",
    "\n",
    "iqr_outlier_counts = {\n",
    "    feature: detect_iqr_outliers(df, feature).shape[0]\n",
    "    for feature in outlier_features\n",
    "}\n",
    "\n",
    "print(\"\\nIQR-Based Outlier Counts:\")\n",
    "for feat, count in iqr_outlier_counts.items():\n",
    "    print(f\"{feat}: {count} outliers\")\n"
   ]
  },
  {
   "cell_type": "markdown",
   "id": "fe084be4",
   "metadata": {},
   "source": [
    "**Scatterplots for Outlier Inspection**"
   ]
  },
  {
   "cell_type": "code",
   "execution_count": null,
   "id": "4c4c733b",
   "metadata": {},
   "outputs": [],
   "source": [
    "scatter_features = ['GrLivArea', 'LotArea']\n",
    "\n",
    "plt.figure(figsize=(12, 5))\n",
    "for i, feature in enumerate(scatter_features):\n",
    "    plt.subplot(1, 2, i + 1)\n",
    "    sns.scatterplot(data=df, x=feature, y='LogSalePrice', alpha=0.6)\n",
    "    plt.title(f\"{feature} vs LogSalePrice\")\n",
    "plt.tight_layout()\n",
    "plt.show()\n"
   ]
  },
  {
   "cell_type": "markdown",
   "id": "f3ad5016",
   "metadata": {},
   "source": [
    "### Outlier Analysis: Observations & Interpretation\n",
    "**Boxplot Insights**\n",
    "1. overallqual\n",
    "- Outliers: One notable low-end outlier around -4.\n",
    "- Whisker Range: Symmetrical from roughly -3 to +3.\n",
    "- Interpretation: Quality scores are stable and centered. Outliers are rare, suggesting it's a consistent, reliable predictor of price.\n",
    "\n",
    "2. grlivarea (Above Ground Living Area)\n",
    "- Outliers: 6 outliers, including 2 below -4 and 4 above the upper whisker.\n",
    "- Whisker Range: -2 to +2.\n",
    "- Interpretation: Outliers on both ends imply homes with unusually small or large living areas. These could be luxury homes or very compact ones — worth closer inspection.\n",
    "\n",
    "3. garagearea\n",
    "- Outliers: Several on the upper end; none on the lower end.\n",
    "- Whisker Range: Balanced from ~ -2 to +2.\n",
    "- Interpretation: Large garages seem to add value disproportionately in some homes. May indicate premium features like 3+ car garages or storage enhancements.\n",
    "\n",
    "4. 1stflrsf (First Floor Area)\n",
    "- Outliers: 3 lower-end, 3 upper-end outliers.\n",
    "- Whisker Range: ~ -2 to +2.\n",
    "- Interpretation: A fairly normal distribution but with architectural edge cases. Homes with expansive first floors may reflect specific design trends (e.g., single-story bungalows).\n",
    "\n",
    "**Scatterplot Insights**\n",
    "1. overallqual vs LogSalePrice\n",
    "- Trend: Strong, clean upward slope.\n",
    "- Interpretation: Higher overall quality directly correlates with higher price. This is a top predictive feature.\n",
    "\n",
    "2. grlivarea vs LogSalePrice\n",
    "- Trend: Strong positive trend but more scatter, especially at higher square footage.\n",
    "- Interpretation: Above-ground space is vital, but extremely large homes deviate — suggesting diminishing returns.\n",
    "\n",
    "3. garagearea vs LogSalePrice\n",
    "- Trend: Positive trend with upper scatter.\n",
    "- Interpretation: Small to mid-size garages follow a linear trend. Outliers likely represent niche luxury features (home gyms, workshops, etc.).\n",
    "\n",
    "4. 1stflrsf vs LogSalePrice\n",
    "- Trend: Mild upward slope with scattered data.\n",
    "- Interpretation: First-floor space contributes positively, but other features (like basement finish or overall design) may play a stronger role.\n",
    "\n",
    "### Key Takeaways\n",
    "- Top Predictors: overallqual and grlivarea consistently demonstrate strong price associations.\n",
    "- Outlier-heavy Features: masvnrarea, openporchsf, and garagearea have multiple extreme values — consider capping or transforming.\n",
    "- Scatter Warnings: lotarea and 1stflrsf show increased variance, especially at upper extremes. These may introduce heteroscedasticity in linear models.\n",
    "- Noisy Signals: Features with wide scatter or clustered outliers may benefit from binning, transformation, or even interaction terms during modeling.\n",
    "- Model Strategy: Flag high-influence features for regularization-aware models and potential log/boxcox transformations."
   ]
  },
  {
   "cell_type": "markdown",
   "id": "118ed7b6",
   "metadata": {},
   "source": [
    "## Business Insights\n",
    "\n",
    "### Key Drivers of Sale Price\n",
    "\n",
    "This section aims to identify and discuss the most influential features driving house sale prices. The insights gathered during exploratory data analysis will be used to provide actionable recommendations for both modeling and strategic business applications.\n",
    "\n",
    "**We'll focus on:**\n",
    "- Features most strongly correlated with LogSalePrice\n",
    "- Feature importance as revealed by correlation scores\n",
    "- Strategic takeaways for predictive modeling and business decision-making"
   ]
  },
  {
   "cell_type": "code",
   "execution_count": null,
   "id": "20b68d95",
   "metadata": {},
   "outputs": [],
   "source": [
    "# Define key features of interest\n",
    "key_features = [\n",
    "    \"OverallQual\", \"GrLivArea\", \"GarageArea\", \"1stFlrSF\", \"LogSalePrice\"\n",
    "]\n",
    "\n",
    "# Calculate correlations with LogSalePrice\n",
    "correlation_values = df[key_features].corr()[\"LogSalePrice\"].sort_values(ascending=False)\n",
    "correlation_values"
   ]
  },
  {
   "cell_type": "markdown",
   "id": "4473d10b",
   "metadata": {},
   "source": [
    "### Key Feature Correlations with LogSalePrice\n",
    "Features and their coreelation\n",
    "- LogSalePrice: 1.00\n",
    "- overallqual:~0.82\n",
    "- grlivarea:~0.70\n",
    "- garagearea:~0.65\n",
    "- 1stflrsf:~0.60"
   ]
  },
  {
   "cell_type": "code",
   "execution_count": null,
   "id": "b5fc471c",
   "metadata": {},
   "outputs": [],
   "source": [
    "# Visualize relationship with most important driver\n",
    "plt.figure(figsize=(10, 6))\n",
    "sns.boxplot(x=\"OverallQual\", y=\"LogSalePrice\", data=df, palette=\"coolwarm\", legend=False, hue=\"OverallQual\")\n",
    "plt.title(\"Impact of Overall Quality on Log(SalePrice)\", fontsize=14)\n",
    "plt.xlabel(\"Overall Quality\")\n",
    "plt.ylabel(\"Log(SalePrice)\")\n",
    "plt.grid(axis=\"y\", linestyle=\"--\", alpha=0.7)\n",
    "plt.tight_layout()\n",
    "plt.savefig(\"outputs/visuals/key_driver_overallqual.png\")\n",
    "plt.show()\n"
   ]
  },
  {
   "cell_type": "markdown",
   "id": "c8837324",
   "metadata": {},
   "source": [
    "### Observations\n",
    "\n",
    "**Overall Quality (overallqual)**\n",
    "- Strongest correlation with sale price (≈ 0.82).\n",
    "- Higher quality ratings directly increase house prices.\n",
    "- Recommendation: Prioritize this in renovation or investment decisions.\n",
    "\n",
    "**Above Ground Living Area (grlivarea)**\n",
    "- Clear positive correlation (≈ 0.70).\n",
    "- Recommendation: Emphasize spacious layouts in property listings.\n",
    "\n",
    "**Garage Area (garagearea)**\n",
    "- Positive but slightly diminishing returns beyond standard sizes.\n",
    "- Recommendation: Upsell larger garages in listings for luxury homes.\n",
    "\n",
    "**First Floor Square Footage (1stflrsf)**\n",
    "- Strong middle-tier driver (≈ 0.60).\n",
    "- Recommendation: Highlight open plans or renovations that maximize this space.\n",
    "\n",
    "#### How We Can Use This Data?\n",
    "- Identify which attributes most affect pricing for the client's inherited homes.\n",
    "- Prioritize impactful renovations or staging before listing properties.\n",
    "- Feed high-correlation features directly into the predictive model pipeline.\n",
    "\n",
    "### Client-Specific Observations\n",
    "- The client's inherited properties should be evaluated using:\n",
    "- overallqual and grlivarea as the main pricing levers.\n",
    "- garagearea as a differentiator for high-end buyers.\n",
    "- 1stflrsf to enhance perceived spaciousness.\n",
    "- Compare these features against market averages from the Ames dataset to set realistic yet competitive prices.\n",
    "\n",
    "#### Broader Insights for Ames, Iowa\n",
    "- Quality over Quantity: Buyers prioritize quality features like finish, construction, and layout more than raw square footage.\n",
    "- Living Area is King: Floor space drives value, especially above-ground.\n",
    "- Garages Still Matter: Extra parking/storage is a premium feature.\n",
    "- Composite Scores Help: Aggregated indicators like overallscore are great for summarizing value.\n",
    "\n",
    "#### Recommendations for the Client\n",
    "- Inherited Properties: Use high-correlation features to price homes strategically\n",
    "- Property Marketing: Highlight large living space, high quality ratings, and garage space\n",
    "- Future Investment: Prioritize homes with high overallqual and grlivarea\n",
    "- Predictive Modeling: Build models emphasizing these drivers for more accurate price predictions\n",
    "\n"
   ]
  },
  {
   "cell_type": "markdown",
   "id": "97ba7f21",
   "metadata": {},
   "source": [
    "## Conclusion & Next Steps\n",
    "\n",
    "### Conclusion\n",
    "\n",
    "The price analysis successfully delivered a detailed understanding of what drives house prices in the Ames, Iowa dataset. Through statistical exploration, visualization, and feature evaluation, we uncovered valuable insights that will guide both predictive modeling and strategic decision-making.\n",
    "\n",
    "#### Key Outcomes:\n",
    "\n",
    "- Target Transformation:\n",
    "Log transformation of SalePrice resulted in a more normalized distribution, reducing skewness and improving suitability for regression models.\n",
    "\n",
    "- Top Predictors Identified:\n",
    "OverallQual, GrLivArea, GarageArea, and 1stFlrSF emerged as the most influential features in predicting house prices, supported by both correlation analysis and visual patterns.\n",
    "\n",
    "- Feature-Price Dynamics:\n",
    "Univariate and bivariate analyses highlighted clear, interpretable trends, while boxplots and scatterplots revealed important non-linear relationships and heteroscedasticity.\n",
    "\n",
    "- Outlier Detection:\n",
    "Outliers were identified via both z-score and IQR methods in key features like LotArea, GrLivArea, GarageArea, and MasVnrArea. Their influence will be addressed during model tuning.\n",
    "\n",
    "- Price Segmentation:\n",
    "Creating PriceSegment bins allowed for simplified interpretability and actionable marketing insights. This feature may also prove useful in classification-based model alternatives.\n",
    "\n",
    "- Business Impact:\n",
    "The analysis provides a direct pathway for pricing strategy, renovation focus, and investment prioritization for the client's inherited properties, grounded in data-backed evidence.\n",
    "\n",
    "## Next Steps\n",
    "\n",
    "#### Model Development\n",
    "\n",
    "- Use LogSalePrice as the target in all regression models.\n",
    "- Include high-correlation features and experiment with interaction terms and polynomial transformations for top predictors.\n",
    "- Apply cross-validation to avoid overfitting and measure generalization.\n",
    "\n",
    "#### Outlier Strategy\n",
    "\n",
    "- Decide on a method: capping/extreme value removal or robust regression techniques.\n",
    "- Evaluate model performance with and without outliers.\n",
    "\n",
    "#### Feature Refinement\n",
    "\n",
    "- Engineer new features (e.g., composite scores, ratios).\n",
    "- Test importance using ML techniques like Random Forest or SHAP values.\n",
    "\n",
    "#### Pipeline Integration\n",
    "\n",
    "- Finalize datasets (x_train_with_target, x_test_with_target) for model training.\n",
    "- Create preprocessing pipelines (scaling, encoding, imputation) for deployment.\n",
    "\n",
    "#### Client Dashboard\n",
    "\n",
    "- Start scoping a user-friendly dashboard allowing the client to input features and view dynamic price predictions.\n",
    "- Final Model Selection\n",
    "- Train and evaluate several models: Linear Regression, Ridge/Lasso, XGBoost, etc.\n",
    "- Select the best model based on RMSE, MAE, and R2 on validation data."
   ]
  }
 ],
 "metadata": {
  "kernelspec": {
   "display_name": "3.12.1",
   "language": "python",
   "name": "python3"
  },
  "language_info": {
   "codemirror_mode": {
    "name": "ipython",
    "version": 3
   },
   "file_extension": ".py",
   "mimetype": "text/x-python",
   "name": "python",
   "nbconvert_exporter": "python",
   "pygments_lexer": "ipython3",
   "version": "3.12.1"
  }
 },
 "nbformat": 4,
 "nbformat_minor": 5
}
