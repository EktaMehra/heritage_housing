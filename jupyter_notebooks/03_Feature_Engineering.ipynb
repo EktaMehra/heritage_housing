{
 "cells": [
  {
   "cell_type": "markdown",
   "id": "931f9d6b",
   "metadata": {},
   "source": [
    "_This project was developed independently as part of Code Institute’s Predictive Analytics Project. Any datasets or templates used are openly provided by the course or via public sources like Kaggle. All commentary and code logic are my own._"
   ]
  },
  {
   "cell_type": "markdown",
   "id": "35e0e548",
   "metadata": {},
   "source": [
    "# Notebook 3: Feature Engineering"
   ]
  },
  {
   "cell_type": "markdown",
   "id": "5d42c848",
   "metadata": {},
   "source": [
    "## Objectives:\n",
    "\n",
    "- Feature Selection: Determine the main determinants of home prices by evaluating the significance of characteristics using statistical techniques and a machine learning model (Random Forest).\n",
    "- Reduce multicollinearity by eliminating superfluous characteristics (such as TotalBsmtSF).\n",
    "- Feature Transformation: To lessen skewness and normalize features for modeling, apply transformations (such as log and standardization).\n",
    "- Make sure machine learning methods are compatible by dynamically encoding categorical variables.\n",
    "- Feature engineering: Using domain expertise, develop new characteristics such as house age, living area to lot area ratio, and overall quality-condition score.\n",
    "- Results Validation: For tasks involving downstream modeling, save the modified training and testing datasets."
   ]
  },
  {
   "cell_type": "markdown",
   "id": "be43b0cd",
   "metadata": {},
   "source": [
    "## Extra Remarks\n",
    "\n",
    "**Important Points:** \n",
    "- Feature engineering choices were informed by statistical techniques, exploratory investigations, and domain expertise.\n",
    "- To guarantee consistency between the datasets, uniform transformations, scaling, and encoding approaches will be used.\n",
    "\n",
    "**Methodology:** \n",
    "- This notebook follows the CRISP-DM methodology's Data Preparation and Transformation phases.\n",
    "\n",
    "**Next Actions:**\n",
    "- The price analysis notebook will use the converted datasets as inputs to investigate the connection between important characteristics and home values.\n",
    "- Regression models that forecast home sale prices will also be trained and assessed using the datasets in the modeling notebook."
   ]
  },
  {
   "cell_type": "markdown",
   "id": "efcfa511",
   "metadata": {},
   "source": [
    "## Change Working Directory\n",
    "- Since it is expected that you would keep the notebooks in a subfolder, you will need to switch the working directory when you run the notebook in the editor.\n",
    "- The working directory must be changed from its current folder to its parent folder.\n",
    "- We wish to change the current directory's parent to the new current directory.\n",
    "- Verify the updated current directory."
   ]
  },
  {
   "cell_type": "code",
   "execution_count": 2,
   "id": "f649f009",
   "metadata": {},
   "outputs": [
    {
     "name": "stdout",
     "output_type": "stream",
     "text": [
      "[INFO] Changed working directory to project root: /workspaces/heritage_housing\n"
     ]
    }
   ],
   "source": [
    "# ===== Smart Working Directory Setup =====\n",
    "import os\n",
    "project_root = '/workspaces/heritage_housing'\n",
    "if os.getcwd() != project_root:\n",
    "    try:\n",
    "        os.chdir(project_root)\n",
    "        print(f\"[INFO] Changed working directory to project root: {os.getcwd()}\")\n",
    "    except FileNotFoundError:\n",
    "        raise FileNotFoundError(f\"[ERROR] Project root '{project_root}' not found!\")"
   ]
  },
  {
   "cell_type": "markdown",
   "id": "b6652b49",
   "metadata": {},
   "source": []
  }
 ],
 "metadata": {
  "kernelspec": {
   "display_name": "Python 3",
   "language": "python",
   "name": "python3"
  },
  "language_info": {
   "codemirror_mode": {
    "name": "ipython",
    "version": 3
   },
   "file_extension": ".py",
   "mimetype": "text/x-python",
   "name": "python",
   "nbconvert_exporter": "python",
   "pygments_lexer": "ipython3",
   "version": "3.12.1"
  }
 },
 "nbformat": 4,
 "nbformat_minor": 5
}
